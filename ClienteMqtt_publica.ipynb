{
  "nbformat": 4,
  "nbformat_minor": 0,
  "metadata": {
    "colab": {
      "provenance": [],
      "name": "ClienteMqtt_publica.ipynb",
      "authorship_tag": "ABX9TyMOdW1qHEJFGhltqUQ0WHZ3",
      "include_colab_link": true
    },
    "kernelspec": {
      "name": "python3",
      "display_name": "Python 3"
    },
    "language_info": {
      "name": "python"
    }
  },
  "cells": [
    {
      "cell_type": "markdown",
      "metadata": {
        "id": "view-in-github",
        "colab_type": "text"
      },
      "source": [
        "<a href=\"https://colab.research.google.com/github/omarcesarcq/otro-ejemplo-git/blob/main/ClienteMqtt_publica.ipynb\" target=\"_parent\"><img src=\"https://colab.research.google.com/assets/colab-badge.svg\" alt=\"Open In Colab\"/></a>"
      ]
    },
    {
      "cell_type": "code",
      "execution_count": null,
      "metadata": {
        "id": "P2GUGd8g3czy"
      },
      "outputs": [],
      "source": [
        "import time\n",
        "import machine\n",
        "from umqtt.simple import MQTTClient\n",
        "\n",
        "# Configura la información de tu red Wi-Fi y tu broker MQTT\n",
        "WIFI_SSID = 'nombre_de_la_red_wifi'\n",
        "WIFI_PASSWORD = 'contraseña_de_la_red_wifi'\n",
        "MQTT_BROKER = 'direccion_del_broker'\n",
        "MQTT_PORT = 1883\n",
        "MQTT_TOPIC = 'tu_topic'  # Convierte tu topic a bytes\n",
        "\n",
        "# Configura las credenciales de MQTT\n",
        "MQTT_CLIENT_ID = 'esp8266_client'\n",
        "MQTT_USERNAME = 'tu_usuario'\n",
        "MQTT_PASSWORD = 'tu_contraseña'\n",
        "\n",
        "# Función para conectarse al broker MQTT\n",
        "def connect_mqtt():\n",
        "    client = MQTTClient(MQTT_CLIENT_ID, MQTT_BROKER, MQTT_PORT, MQTT_USERNAME, MQTT_PASSWORD)\n",
        "    client.connect()\n",
        "    print('Conectado al broker MQTT')\n",
        "    return client\n",
        "\n",
        "# Función para publicar un mensaje\n",
        "def publish(client, message):\n",
        "    client.publish(MQTT_TOPIC, message)\n",
        "    print('Mensaje publicado:', message)\n",
        "\n",
        "# Función principal\n",
        "def main():\n",
        "    try:\n",
        "        client = connect_mqtt()\n",
        "        while True:\n",
        "            # Publica un mensaje\n",
        "            message = 'Hola, mundo!'\n",
        "            publish(client, message)\n",
        "            time.sleep(10)  # Publica un mensaje cada 10 segundos\n",
        "    except Exception as e:\n",
        "        print('Error:', e)\n",
        "        machine.reset()  # Reiniciar el ESP8266 en caso de error\n",
        "\n",
        "if __name__ == '__main__':\n",
        "    main()\n"
      ]
    }
  ]
}