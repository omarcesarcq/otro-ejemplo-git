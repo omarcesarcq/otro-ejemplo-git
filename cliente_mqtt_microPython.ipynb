{
  "nbformat": 4,
  "nbformat_minor": 0,
  "metadata": {
    "colab": {
      "provenance": [],
      "authorship_tag": "ABX9TyPTcoKWnsEp66V4sIwPx0np",
      "include_colab_link": true
    },
    "kernelspec": {
      "name": "python3",
      "display_name": "Python 3"
    },
    "language_info": {
      "name": "python"
    }
  },
  "cells": [
    {
      "cell_type": "markdown",
      "metadata": {
        "id": "view-in-github",
        "colab_type": "text"
      },
      "source": [
        "<a href=\"https://colab.research.google.com/github/omarcesarcq/otro-ejemplo-git/blob/main/cliente_mqtt_microPython.ipynb\" target=\"_parent\"><img src=\"https://colab.research.google.com/assets/colab-badge.svg\" alt=\"Open In Colab\"/></a>"
      ]
    },
    {
      "cell_type": "code",
      "execution_count": null,
      "metadata": {
        "id": "Fp3XnpZbSBAZ"
      },
      "outputs": [],
      "source": [
        "import machine\n",
        "import time\n",
        "import network\n",
        "from umqtt.simple import MQTTClient\n",
        "\n",
        "# Configuración de la red Wi-Fi\n",
        "wifi_ssid = \"HUAWEI_MATE8\"\n",
        "wifi_password = \"d395db00\"\n",
        "\n",
        "# Configuración del servidor MQTT\n",
        "mqtt_server = \"192.168.43.135\"\n",
        "mqtt_topic = \"/prueba\"\n",
        "\n",
        "led_pin = machine.Pin(15, machine.Pin.OUT)  # Pin GPIO2 para el LED\n",
        "\n",
        "def connect_to_wifi():\n",
        "    sta_if = network.WLAN(network.STA_IF)\n",
        "    sta_if.active(True)\n",
        "    if not sta_if.isconnected():\n",
        "        print(\"Conectando a la red Wi-Fi...\")\n",
        "        sta_if.connect(wifi_ssid, wifi_password)\n",
        "        while not sta_if.isconnected():\n",
        "            print(\"*\")\n",
        "            time.sleep(1)\n",
        "    print(\"Conectado a la red Wi-Fi:\", sta_if.ifconfig()[0])\n",
        "\n",
        "def on_message(topic, message):\n",
        "    if topic.decode() == mqtt_topic.decode():\n",
        "        if message.decode() == \"ON\":\n",
        "            led_pin.on()\n",
        "        elif message.decode() == \"OFF\":\n",
        "            led_pin.off()\n",
        "\n",
        "def connect_to_mqtt():\n",
        "    client_id = \"esp8266_1\"\n",
        "    mqtt_user = \"usuario1\"\n",
        "    mqtt_pass = \"usuario1\"\n",
        "    client = MQTTClient(client_id, mqtt_server, user=mqtt_user, password=mqtt_pass)\n",
        "    client.set_callback(on_message)\n",
        "    client.connect()\n",
        "    client.subscribe(mqtt_topic)\n",
        "    print(\"Conectado al servidor MQTT\")\n",
        "\n",
        "    return client\n",
        "\n",
        "def main():\n",
        "    connect_to_wifi()\n",
        "    client = connect_to_mqtt()\n",
        "\n",
        "    while True:\n",
        "        try:\n",
        "            client.check_msg()\n",
        "\n",
        "\n",
        "        except OSError:\n",
        "            print(\"Error de conexión MQTT. Reconectando...\")\n",
        "            client = connect_to_mqtt()\n",
        "\n",
        "if __name__ == \"__main__\":\n",
        "    main()"
      ]
    }
  ]
}
